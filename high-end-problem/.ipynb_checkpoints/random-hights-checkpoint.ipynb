{
 "cells": [
  {
   "cell_type": "code",
   "execution_count": 10,
   "metadata": {},
   "outputs": [
    {
     "name": "stdout",
     "output_type": "stream",
     "text": [
      "finish\n"
     ]
    }
   ],
   "source": [
    "# GENERATES RANDOM HEIGHTS (USING STD DEVIATION AND \n",
    "# MEDIAN) AND SAVE IN CSV FILE\n",
    "\n",
    "import random\n",
    "import csv\n",
    "from scipy.stats import norm\n",
    "\n",
    "# Variables\n",
    "\n",
    "# standard deviation use to calculate random heights\n",
    "# stdDev = 7.4 # men's standard deviation\n",
    "stdDev = 6.9 # women's standard deviation\n",
    "\n",
    "# median use to calculate random heights\n",
    "# median = 175.5 # men's median\n",
    "median  = 161.8 # women's median\n",
    "\n",
    "# where csv file must be save\n",
    "# csvFilePath = \"/var/www/man.csv\"\n",
    "csvFilePath = \"/var/www/woman.csv\"\n",
    "\n",
    "\n",
    "writer = csv.writer(open(csvFilePath, 'w'))\n",
    "header = ['#', 'Height (in cm)']\n",
    "writer.writerow(header)\n",
    "for x in range(0, 1000):\n",
    "    height = norm.ppf(random.uniform(0, 1), loc=median, scale=stdDev)\n",
    "    height = round(height, 2)\n",
    "    row = [x, height]\n",
    "    writer.writerow(row)\n",
    "\n",
    "print(\"finish\")"
   ]
  }
 ],
 "metadata": {
  "kernelspec": {
   "display_name": "Python 3",
   "language": "python",
   "name": "python3"
  },
  "language_info": {
   "codemirror_mode": {
    "name": "ipython",
    "version": 3
   },
   "file_extension": ".py",
   "mimetype": "text/x-python",
   "name": "python",
   "nbconvert_exporter": "python",
   "pygments_lexer": "ipython3",
   "version": "3.6.5"
  }
 },
 "nbformat": 4,
 "nbformat_minor": 2
}
