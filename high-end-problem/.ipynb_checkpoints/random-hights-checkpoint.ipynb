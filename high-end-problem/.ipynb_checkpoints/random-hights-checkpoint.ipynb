{
 "cells": [
  {
   "cell_type": "code",
   "execution_count": 54,
   "metadata": {},
   "outputs": [
    {
     "name": "stdout",
     "output_type": "stream",
     "text": [
      "['199.13', '197.98', '197.89', '195.01', '194.22', '194.11', '193.96', '193.68', '193.59', '193.16', '192.82', '192.66', '192.6', '192.24', '192.14', '192.0', '191.46', '191.35', '191.17', '191.03', '190.96', '190.86']\n",
      "finish\n"
     ]
    }
   ],
   "source": [
    "# GENERATES RANDOM HEIGHTS (USING STD DEVIATION AND \n",
    "# MEDIAN) AND SAVE IN CSV FILE\n",
    "\n",
    "import random\n",
    "import csv\n",
    "import numpy as np\n",
    "from scipy.stats import norm\n",
    "\n",
    "# Variables\n",
    "\n",
    "# standard deviation use to calculate random heights\n",
    "stdDev = 7.4 # men's standard deviation\n",
    "# stdDev = 6.9 # women's standard deviation\n",
    "\n",
    "# median use to calculate random heights\n",
    "median = 175.5 # men's median\n",
    "# median  = 161.8 # women's median\n",
    "\n",
    "# where csv file must be save\n",
    "csvFilePath = \"/var/www/man.csv\"\n",
    "# csvFilePath = \"/var/www/woman.csv\"\n",
    "\n",
    "#max people will generate\n",
    "peopleNum = 1000\n",
    "\n",
    "# FUNCTIONS\n",
    "# generates random heights\n",
    "def generatesPeople():\n",
    "    peopleHeights = []\n",
    "    for x in range(0, peopleNum):\n",
    "        height = norm.ppf(random.uniform(0, 1), loc=median, scale=stdDev)\n",
    "        peopleHeights.append(round(height, 2))\n",
    "    return peopleHeights\n",
    "\n",
    "# sort by tallest people\n",
    "def sortByHeights(peopleHeights):\n",
    "    return np.sort(peopleHeights, axis=None)\n",
    "        \n",
    "# return de percent of two arrays\n",
    "def getPercent(fromArr, toArr):\n",
    "    fromLen = len(fromArr)\n",
    "    toLen = len(toArr)\n",
    "    return (toLen * 100) / fromLen\n",
    "\n",
    "# return the itens from array, using percent\n",
    "def getAmount(percent, peopleHeights = []):\n",
    "    actualPercent = 0\n",
    "    resultArr = []\n",
    "    peopleHeights = [str(x) for x in peopleHeights]\n",
    "    while(actualPercent < percent):\n",
    "        resultArr.append(peopleHeights.pop())\n",
    "        actualPercent = getPercent(peopleHeights, resultArr)\n",
    "    return resultArr\n",
    "\n",
    "peopleHeights = generatesPeople()\n",
    "peopleHeights = sortByHeights(peopleHeights)\n",
    "tallestPeoples = getAmount(2.2, peopleHeights)\n",
    "print(tallestPeoples)\n",
    "\n",
    "print(\"finish\")"
   ]
  }
 ],
 "metadata": {
  "kernelspec": {
   "display_name": "Python 3",
   "language": "python",
   "name": "python3"
  },
  "language_info": {
   "codemirror_mode": {
    "name": "ipython",
    "version": 3
   },
   "file_extension": ".py",
   "mimetype": "text/x-python",
   "name": "python",
   "nbconvert_exporter": "python",
   "pygments_lexer": "ipython3",
   "version": "3.6.5"
  }
 },
 "nbformat": 4,
 "nbformat_minor": 2
}
